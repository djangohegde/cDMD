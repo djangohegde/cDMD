{
 "cells": [
  {
   "cell_type": "code",
   "execution_count": 81,
   "metadata": {},
   "outputs": [],
   "source": [
    "# import all packages\n",
    "\n",
    "import numpy as np"
   ]
  },
  {
   "cell_type": "code",
   "execution_count": 82,
   "metadata": {},
   "outputs": [],
   "source": [
    "# import data\n",
    "\n",
    "x = np.array([\n",
    "        [1, 2, 3, 4, 5],\n",
    "        [5, 6, 7, 8, 10],\n",
    "        [5, 6, 7, 8, 10],\n",
    "        [5, 6, 7, 8, 10],\n",
    "        [5, 6, 7, 8, 10],\n",
    "        [5, 6, 7, 8, 10],\n",
    "        [5, 6, 7, 8, 10],\n",
    "        [5, 6, 7, 8, 10],\n",
    "        [5, 6, 7, 8, 10],\n",
    "        [5, 6, 7, 8, 10],\n",
    "        ])\n",
    "\n",
    "D2 = np.array([\n",
    "        [1, 2, 3, 40, 5],\n",
    "        [5, .006, .7, 800, 10],\n",
    "        [5, 6, 7, 8, 10],\n",
    "        [5, .6, .7, 8, 10],\n",
    "        [0.05, .6, 70, 8, 10],\n",
    "        [50, 6, 7, 8, 10],\n",
    "        [5, 6, 7, 8, 10],\n",
    "        [5, .6, 7, 8, 10],\n",
    "        [500, 6, 7, 8, 10],\n",
    "        [5, 6, .7, 8, 10],\n",
    "        ])"
   ]
  },
  {
   "cell_type": "code",
   "execution_count": 83,
   "metadata": {},
   "outputs": [],
   "source": [
    "data_shape = (x.shape[1], x.shape[0])\n",
    "percent_Trunc = 0.03\n",
    "r = 3\n",
    "# frame_rate = 30"
   ]
  },
  {
   "cell_type": "code",
   "execution_count": 84,
   "metadata": {},
   "outputs": [],
   "source": [
    "# Compression matrix generation\n",
    "\n",
    "C_gaussian = np.random.normal(0, 1, size=data_shape)"
   ]
  },
  {
   "cell_type": "code",
   "execution_count": 85,
   "metadata": {},
   "outputs": [],
   "source": [
    "# compress data\n",
    "\n",
    "y = np.dot(C_gaussian, x)"
   ]
  },
  {
   "cell_type": "code",
   "execution_count": 86,
   "metadata": {},
   "outputs": [],
   "source": [
    "# # DMD\n",
    "\n",
    "# [U, S, V] = np.linalg.svd(y)#, full_matrices=False, compute_uv=True, hermitian=False)\n",
    "# # U = U[:, 0:TruncVal]\n",
    "# # S = S[0:TruncVal+1]\n",
    "# # V = V[:,0:TruncVal]\n",
    "# # S = np.array(S)\n",
    "# # S = S * np.identity(len(S))\n",
    "# Atilde = np.dot(np.dot(U.T, D2.T).T, (V.T)) / S\n",
    "# Atilde = np.dot(Atilde.T, Atilde)\n",
    "# [eivVec,eivVal] = np.linalg.eig(Atilde)\n",
    "# eivarray = np.diag(eivVal)\n",
    "# # S = np.array(S)\n",
    "# # S = S * np.identity(len(S))\n",
    "# X1 = np.dot(np.dot(D2, V / (S)), eivVec) \n",
    "# # X2 = np.reshape(mb.repmat(np.transpose(eivarray),np.size(x,1),1), (10, 1))  # unscaled modes\n",
    "# # X3 = X1/X2\n",
    "# # d = X3/x[:,0]  # scales\n",
    "# # amplitude = np.absolute(d)\n",
    "# # X=X1*np.diag(d)    #scaled mode\n",
    "\n",
    "# # end of DMD"
   ]
  },
  {
   "cell_type": "code",
   "execution_count": 87,
   "metadata": {},
   "outputs": [],
   "source": [
    "# DMD\n",
    "\n",
    "[U, S, V] = np.linalg.svd(y, full_matrices=False, compute_uv=True, hermitian=False)\n",
    "# U = U[:, 0:TruncVal]\n",
    "# S = S[0:TruncVal+1]\n",
    "# V = V[:,0:TruncVal]\n",
    "# S = np.array(S)\n",
    "# S = S * np.identity(len(S))\n",
    "Atilde = U[:, : r].conj().T @ np.dot(D2.T, D2) @ V[: r, :].conj().T * np.reciprocal(S[: r])\n",
    "# Atilde = np.dot(np.dot(U.T, D2.T).T, (V.T)) / S\n",
    "Atilde = np.dot(Atilde.T, Atilde)\n",
    "[eivVec,eivVal] = np.linalg.eig(Atilde)\n",
    "eivarray = np.diag(eivVal)\n",
    "# S = np.array(S)\n",
    "# S = S * np.identity(len(S))\n",
    "# X1 = np.dot(D2 @ V[: r, :].conj().T * np.reciprocal(S[: r]), eivVec) \n",
    "# X2 = np.reshape(mb.repmat(np.transpose(eivarray),np.size(x,1),1), (10, 1))  # unscaled modes\n",
    "# X3 = X1/X2\n",
    "# d = X3/x[:,0]  # scales\n",
    "# amplitude = np.absolute(d)\n",
    "# X=X1*np.diag(d)    #scaled mode\n",
    "\n",
    "sp_modes = D2 @ V[: r, :].conj().T @ np.diag(np.reciprocal(S[: r])) @ eivVec\n",
    "\n",
    "# end of DMD"
   ]
  },
  {
   "cell_type": "code",
   "execution_count": 88,
   "metadata": {},
   "outputs": [
    {
     "name": "stderr",
     "output_type": "stream",
     "text": [
      "/tmp/ipykernel_346/2542409379.py:8: RuntimeWarning: invalid value encountered in log\n",
      "  omega = np.log(eivarray)/delta_t\n"
     ]
    }
   ],
   "source": [
    "modeNorm = np.zeros(r)\n",
    "for i in (0, r-1):\n",
    "    modeNorm[i] = np.linalg.norm(X[i]) # norm of each mode\n",
    "\n",
    "mag = np.absolute(eivarray)\n",
    "weigh = mag[1:-1]/np.sum(mag)\n",
    "delta_t = 1/frame_rate   \n",
    "omega = np.log(eivarray)/delta_t\n",
    "growth = np.real(omega)\n",
    "frequency = np.imag(omega)/(2*np.pi)"
   ]
  },
  {
   "cell_type": "code",
   "execution_count": 89,
   "metadata": {},
   "outputs": [],
   "source": [
    "# #\n",
    "\n",
    "# freq1 = np.where(frequency>=0)     # eliminating negative frequencies\n",
    "# amplitude1 = amplitude[freq1]  # eliminating amplitudes corresponding to -ve frequencies\n",
    "# d1 = d[freq1]    # similar operations below for different parameters\n",
    "# omega1 = omega[freq1]\n",
    "# growth1 = growth[freq1]\n",
    "# # weigh1 = weigh[freq1]\n",
    "# # modeNorm1 = modeNorm[:,freq1]\n",
    "# frequency1 = frequency[freq1]\n",
    "# Xplus = X[:freq1]"
   ]
  }
 ],
 "metadata": {
  "kernelspec": {
   "display_name": "Python 3",
   "language": "python",
   "name": "python3"
  },
  "language_info": {
   "codemirror_mode": {
    "name": "ipython",
    "version": 3
   },
   "file_extension": ".py",
   "mimetype": "text/x-python",
   "name": "python",
   "nbconvert_exporter": "python",
   "pygments_lexer": "ipython3",
   "version": "3.8.10"
  },
  "orig_nbformat": 4
 },
 "nbformat": 4,
 "nbformat_minor": 2
}
