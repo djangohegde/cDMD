{
 "cells": [
  {
   "cell_type": "code",
   "execution_count": 15,
   "metadata": {},
   "outputs": [],
   "source": [
    "# import all packages\n",
    "\n",
    "import numpy as np"
   ]
  },
  {
   "cell_type": "code",
   "execution_count": 16,
   "metadata": {},
   "outputs": [],
   "source": [
    "# import data\n",
    "\n",
    "x = np.array([\n",
    "        [1, 2, 3, 4, 5],\n",
    "        [5, 6, 7, 8, 10],\n",
    "        [5, 6, 7, 8, 10],\n",
    "        [5, 6, 7, 8, 10],\n",
    "        [5, 6, 7, 8, 10],\n",
    "        ])"
   ]
  },
  {
   "cell_type": "code",
   "execution_count": 17,
   "metadata": {},
   "outputs": [],
   "source": [
    "data_shape = x.shape\n",
    "percent_Trunc = 0.03\n",
    "TruncVal = data_shape[0]*percent_Trunc"
   ]
  },
  {
   "cell_type": "code",
   "execution_count": 18,
   "metadata": {},
   "outputs": [],
   "source": [
    "# Compression matrix generation\n",
    "\n",
    "C_gaussian = np.random.normal(0, 1, data_shape)"
   ]
  },
  {
   "cell_type": "code",
   "execution_count": 19,
   "metadata": {},
   "outputs": [],
   "source": [
    "# compress data\n",
    "x = x*x.T\n",
    "y = np.dot(C_gaussian, x)"
   ]
  },
  {
   "cell_type": "code",
   "execution_count": 14,
   "metadata": {},
   "outputs": [
    {
     "ename": "TypeError",
     "evalue": "slice indices must be integers or None or have an __index__ method",
     "output_type": "error",
     "traceback": [
      "\u001b[0;31m---------------------------------------------------------------------------\u001b[0m",
      "\u001b[0;31mTypeError\u001b[0m                                 Traceback (most recent call last)",
      "\u001b[1;32m/home/kovalsky/cDMD/DMD.ipynb Cell 7\u001b[0m in \u001b[0;36m<cell line: 4>\u001b[0;34m()\u001b[0m\n\u001b[1;32m      <a href='vscode-notebook-cell://wsl%2Bubuntu-20.04/home/kovalsky/cDMD/DMD.ipynb#W6sdnNjb2RlLXJlbW90ZQ%3D%3D?line=0'>1</a>\u001b[0m \u001b[39m# DMD\u001b[39;00m\n\u001b[1;32m      <a href='vscode-notebook-cell://wsl%2Bubuntu-20.04/home/kovalsky/cDMD/DMD.ipynb#W6sdnNjb2RlLXJlbW90ZQ%3D%3D?line=2'>3</a>\u001b[0m [U, S, V] \u001b[39m=\u001b[39m np\u001b[39m.\u001b[39mlinalg\u001b[39m.\u001b[39msvd(data, full_matrices\u001b[39m=\u001b[39m\u001b[39mTrue\u001b[39;00m, compute_uv\u001b[39m=\u001b[39m\u001b[39mTrue\u001b[39;00m, hermitian\u001b[39m=\u001b[39m\u001b[39mFalse\u001b[39;00m)\n\u001b[0;32m----> <a href='vscode-notebook-cell://wsl%2Bubuntu-20.04/home/kovalsky/cDMD/DMD.ipynb#W6sdnNjb2RlLXJlbW90ZQ%3D%3D?line=3'>4</a>\u001b[0m U \u001b[39m=\u001b[39m U[:, \u001b[39m1\u001b[39;49m:TruncVal]\n\u001b[1;32m      <a href='vscode-notebook-cell://wsl%2Bubuntu-20.04/home/kovalsky/cDMD/DMD.ipynb#W6sdnNjb2RlLXJlbW90ZQ%3D%3D?line=4'>5</a>\u001b[0m S \u001b[39m=\u001b[39m S[\u001b[39m1\u001b[39m:TruncVal,\u001b[39m1\u001b[39m:TruncVal]\n\u001b[1;32m      <a href='vscode-notebook-cell://wsl%2Bubuntu-20.04/home/kovalsky/cDMD/DMD.ipynb#W6sdnNjb2RlLXJlbW90ZQ%3D%3D?line=5'>6</a>\u001b[0m V \u001b[39m=\u001b[39m V[:,\u001b[39m1\u001b[39m:TruncVal]\n",
      "\u001b[0;31mTypeError\u001b[0m: slice indices must be integers or None or have an __index__ method"
     ]
    }
   ],
   "source": [
    "# DMD\n",
    "\n",
    "[U, S, V] = np.linalg.svd(y, full_matrices=True, compute_uv=True, hermitian=False)\n",
    "U = U[:, 1:TruncVal]\n",
    "S = S[1:TruncVal,1:TruncVal]\n",
    "V = V[:,1:TruncVal]\n",
    "Atilde = np.transpose(U) * D2 * V / S\n",
    "[eivVec,eivVal] = np.linalg.eig(Atilde)\n",
    "eivarray = np.diag(eivVal)\n",
    "X1 = (D2 * V / (S)* eivVec)/np.matlib.repmat(np.transpose(eivarray),np.size(D1,1),1)  # unscaled modes\n",
    "d = X1/D1[:,1]  # scales\n",
    "amplitude = np.absolute(d)\n",
    "X=X1*np.diag(d)    #scaled mode\n",
    "\n",
    "# end of DMD"
   ]
  },
  {
   "cell_type": "code",
   "execution_count": null,
   "metadata": {},
   "outputs": [],
   "source": [
    "#\n",
    "\n",
    "modeNorm = np.zeros(1,TruncVal)\n",
    "for i in (1, TruncVal):\n",
    "    modeNorm[i] = np.linalg.norm(X[:,i]) # norm of each mode\n",
    "\n",
    "mag = np.absolute(eivarray)\n",
    "weigh = mag[1:-1]/np.sum(mag)\n",
    "delta_t = 1/frame_rate   \n",
    "omega = np.log(eivarray)/delta_t\n",
    "growth = np.real(omega)\n",
    "frequency = np.imag(omega)/(2*np.pi)"
   ]
  },
  {
   "cell_type": "code",
   "execution_count": null,
   "metadata": {},
   "outputs": [],
   "source": [
    "#\n",
    "\n",
    "freq1 = np.where(frequency>=0)     # eliminating negative frequencies\n",
    "amplitude1 = amplitude[freq1]  # eliminating amplitudes corresponding to -ve frequencies\n",
    "d1 = d[freq1]    # similar operations below for different parameters\n",
    "omega1 = omega[freq1]\n",
    "growth1 = growth[freq1]\n",
    "weigh1 = weigh[freq1]\n",
    "modeNorm1 = modeNorm[:,freq1]\n",
    "frequency1 = frequency[freq1]\n",
    "Xplus = X[:,freq1]"
   ]
  }
 ],
 "metadata": {
  "kernelspec": {
   "display_name": "Python 3",
   "language": "python",
   "name": "python3"
  },
  "language_info": {
   "codemirror_mode": {
    "name": "ipython",
    "version": 3
   },
   "file_extension": ".py",
   "mimetype": "text/x-python",
   "name": "python",
   "nbconvert_exporter": "python",
   "pygments_lexer": "ipython3",
   "version": "3.8.10"
  },
  "orig_nbformat": 4
 },
 "nbformat": 4,
 "nbformat_minor": 2
}
