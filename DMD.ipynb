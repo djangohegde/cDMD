{
 "cells": [
  {
   "cell_type": "code",
   "execution_count": 2,
   "metadata": {},
   "outputs": [],
   "source": [
    "# import all packages\n",
    "\n",
    "import numpy as np"
   ]
  },
  {
   "cell_type": "code",
   "execution_count": 10,
   "metadata": {},
   "outputs": [],
   "source": [
    "data = np.loadtxt('DMDdata200.txt', delimiter=',')"
   ]
  },
  {
   "cell_type": "code",
   "execution_count": 17,
   "metadata": {},
   "outputs": [],
   "source": [
    "x1 = data[:,:-1]\n",
    "x2 = data[:,1:]"
   ]
  },
  {
   "cell_type": "code",
   "execution_count": 13,
   "metadata": {},
   "outputs": [],
   "source": [
    "# # import data\n",
    "\n",
    "# x1 = np.array([\n",
    "#         [1, 2, 3, 4, 5],\n",
    "#         [5, 6, 7, 8, 10],\n",
    "#         [5, 6, 7, 8, 10],\n",
    "#         [5, 6, 7, 8, 10],\n",
    "#         [5, 6, 7, 8, 10],\n",
    "#         [5, 6, 7, 8, 10],\n",
    "#         [5, 6, 7, 8, 10],\n",
    "#         [5, 6, 7, 8, 10],\n",
    "#         [5, 6, 7, 8, 10],\n",
    "#         [5, 6, 7, 8, 10],\n",
    "#         ])\n",
    "\n",
    "# x2 = np.array([\n",
    "#         [1, 2, 3, 40, 5],\n",
    "#         [5, .006, .7, 800, 10],\n",
    "#         [5, 6, 7, 8, 10],\n",
    "#         [5, .6, .7, 8, 10],\n",
    "#         [0.05, .6, 70, 8, 10],\n",
    "#         [50, 6, 7, 8, 10],\n",
    "#         [5, 6, 7, 8, 10],\n",
    "#         [5, .6, 7, 8, 10],\n",
    "#         [500, 6, 7, 8, 10],\n",
    "#         [5, 6, .7, 8, 10],\n",
    "#         ])"
   ]
  },
  {
   "cell_type": "code",
   "execution_count": 18,
   "metadata": {},
   "outputs": [],
   "source": [
    "data_shape = (x1.shape[1], x1.shape[0])\n",
    "percent_Trunc = 0.03\n",
    "r = 10\n",
    "# frame_rate = 30"
   ]
  },
  {
   "cell_type": "code",
   "execution_count": 21,
   "metadata": {},
   "outputs": [],
   "source": [
    "# Compression matrix generation\n",
    "\n",
    "C_gaussian = np.random.normal(0, 1, size=data_shape)"
   ]
  },
  {
   "cell_type": "code",
   "execution_count": 24,
   "metadata": {},
   "outputs": [
    {
     "data": {
      "text/plain": [
       "(2000, 2000)"
      ]
     },
     "execution_count": 24,
     "metadata": {},
     "output_type": "execute_result"
    }
   ],
   "source": [
    "# y.shape"
   ]
  },
  {
   "cell_type": "code",
   "execution_count": 23,
   "metadata": {},
   "outputs": [],
   "source": [
    "# compress data\n",
    "\n",
    "y = np.dot(C_gaussian, x1)"
   ]
  },
  {
   "cell_type": "code",
   "execution_count": 7,
   "metadata": {},
   "outputs": [],
   "source": [
    "# # DMD\n",
    "\n",
    "# [U, S, V] = np.linalg.svd(y)#, full_matrices=False, compute_uv=True, hermitian=False)\n",
    "# # U = U[:, 0:TruncVal]\n",
    "# # S = S[0:TruncVal+1]\n",
    "# # V = V[:,0:TruncVal]\n",
    "# # S = np.array(S)\n",
    "# # S = S * np.identity(len(S))\n",
    "# Atilde = np.dot(np.dot(U.T, D2.T).T, (V.T)) / S\n",
    "# Atilde = np.dot(Atilde.T, Atilde)\n",
    "# [eivVec,eivVal] = np.linalg.eig(Atilde)\n",
    "# eivarray = np.diag(eivVal)\n",
    "# # S = np.array(S)\n",
    "# # S = S * np.identity(len(S))\n",
    "# X1 = np.dot(np.dot(D2, V / (S)), eivVec) \n",
    "# # X2 = np.reshape(mb.repmat(np.transpose(eivarray),np.size(x,1),1), (10, 1))  # unscaled modes\n",
    "# # X3 = X1/X2\n",
    "# # d = X3/x[:,0]  # scales\n",
    "# # amplitude = np.absolute(d)\n",
    "# # X=X1*np.diag(d)    #scaled mode\n",
    "\n",
    "# # end of DMD"
   ]
  },
  {
   "cell_type": "code",
   "execution_count": 26,
   "metadata": {},
   "outputs": [],
   "source": [
    "# DMD\n",
    "\n",
    "[U, S, V] = np.linalg.svd(y, full_matrices=False, compute_uv=True, hermitian=False)\n",
    "# U = U[:, 0:TruncVal]\n",
    "# S = S[0:TruncVal+1]\n",
    "# V = V[:,0:TruncVal]\n",
    "# S = np.array(S)\n",
    "# S = S * np.identity(len(S))\n",
    "Atilde = U[:, : r].conj().T @ np.dot(x2.T, x2) @ V[: r, :].conj().T * np.reciprocal(S[: r])\n",
    "# Atilde = np.dot(np.dot(U.T, D2.T).T, (V.T)) / S\n",
    "Atilde = np.dot(Atilde.T, Atilde)\n",
    "[eivVec,eivVal] = np.linalg.eig(Atilde)\n",
    "eivarray = np.diag(eivVal)\n",
    "# S = np.array(S)\n",
    "# S = S * np.identity(len(S))\n",
    "# X1 = np.dot(D2 @ V[: r, :].conj().T * np.reciprocal(S[: r]), eivVec) \n",
    "# X2 = np.reshape(mb.repmat(np.transpose(eivarray),np.size(x,1),1), (10, 1))  # unscaled modes\n",
    "# X3 = X1/X2\n",
    "# d = X3/x[:,0]  # scales\n",
    "# amplitude = np.absolute(d)\n",
    "# X=X1*np.diag(d)    #scaled mode\n",
    "\n",
    "sp_modes = x2 @ V[: r, :].conj().T @ np.diag(np.reciprocal(S[: r])) @ eivVec\n",
    "\n",
    "# end of DMD"
   ]
  },
  {
   "cell_type": "code",
   "execution_count": 9,
   "metadata": {},
   "outputs": [
    {
     "ename": "NameError",
     "evalue": "name 'X' is not defined",
     "output_type": "error",
     "traceback": [
      "\u001b[1;31m---------------------------------------------------------------------------\u001b[0m",
      "\u001b[1;31mNameError\u001b[0m                                 Traceback (most recent call last)",
      "Cell \u001b[1;32mIn[9], line 3\u001b[0m\n\u001b[0;32m      1\u001b[0m modeNorm \u001b[39m=\u001b[39m np\u001b[39m.\u001b[39mzeros(r)\n\u001b[0;32m      2\u001b[0m \u001b[39mfor\u001b[39;00m i \u001b[39min\u001b[39;00m (\u001b[39m0\u001b[39m, r\u001b[39m-\u001b[39m\u001b[39m1\u001b[39m):\n\u001b[1;32m----> 3\u001b[0m     modeNorm[i] \u001b[39m=\u001b[39m np\u001b[39m.\u001b[39mlinalg\u001b[39m.\u001b[39mnorm(X[i]) \u001b[39m# norm of each mode\u001b[39;00m\n\u001b[0;32m      5\u001b[0m mag \u001b[39m=\u001b[39m np\u001b[39m.\u001b[39mabsolute(eivarray)\n\u001b[0;32m      6\u001b[0m weigh \u001b[39m=\u001b[39m mag[\u001b[39m1\u001b[39m:\u001b[39m-\u001b[39m\u001b[39m1\u001b[39m]\u001b[39m/\u001b[39mnp\u001b[39m.\u001b[39msum(mag)\n",
      "\u001b[1;31mNameError\u001b[0m: name 'X' is not defined"
     ]
    }
   ],
   "source": [
    "# modeNorm = np.zeros(r)\n",
    "# for i in (0, r-1):\n",
    "#     modeNorm[i] = np.linalg.norm(X[i]) # norm of each mode\n",
    "\n",
    "# mag = np.absolute(eivarray)\n",
    "# weigh = mag[1:-1]/np.sum(mag)\n",
    "# delta_t = 1/frame_rate   \n",
    "# omega = np.log(eivarray)/delta_t\n",
    "# growth = np.real(omega)\n",
    "# frequency = np.imag(omega)/(2*np.pi)"
   ]
  },
  {
   "cell_type": "code",
   "execution_count": null,
   "metadata": {},
   "outputs": [],
   "source": [
    "# #\n",
    "\n",
    "# freq1 = np.where(frequency>=0)     # eliminating negative frequencies\n",
    "# amplitude1 = amplitude[freq1]  # eliminating amplitudes corresponding to -ve frequencies\n",
    "# d1 = d[freq1]    # similar operations below for different parameters\n",
    "# omega1 = omega[freq1]\n",
    "# growth1 = growth[freq1]\n",
    "# # weigh1 = weigh[freq1]\n",
    "# # modeNorm1 = modeNorm[:,freq1]\n",
    "# frequency1 = frequency[freq1]\n",
    "# Xplus = X[:freq1]"
   ]
  }
 ],
 "metadata": {
  "kernelspec": {
   "display_name": "Python 3",
   "language": "python",
   "name": "python3"
  },
  "language_info": {
   "codemirror_mode": {
    "name": "ipython",
    "version": 3
   },
   "file_extension": ".py",
   "mimetype": "text/x-python",
   "name": "python",
   "nbconvert_exporter": "python",
   "pygments_lexer": "ipython3",
   "version": "3.11.3"
  },
  "orig_nbformat": 4
 },
 "nbformat": 4,
 "nbformat_minor": 2
}
