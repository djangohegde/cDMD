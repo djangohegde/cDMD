{
 "cells": [
  {
   "cell_type": "code",
   "execution_count": 422,
   "metadata": {},
   "outputs": [],
   "source": [
    "# import all packages\n",
    " \n",
    "import numpy as np"
   ]
  },
  {
   "cell_type": "code",
   "execution_count": 423,
   "metadata": {},
   "outputs": [],
   "source": [
    "data_vort = np.loadtxt('vortall.csv', delimiter=',')"
   ]
  },
  {
   "cell_type": "code",
   "execution_count": 424,
   "metadata": {},
   "outputs": [],
   "source": [
    "x1 = data_vort[:,:-1]\n",
    "x2 = data_vort[:,1:]"
   ]
  },
  {
   "cell_type": "code",
   "execution_count": 425,
   "metadata": {},
   "outputs": [],
   "source": [
    "data_shape = (x1.shape[1], x1.shape[0])\n",
    "percent_Trunc = 0.90\n",
    "frame_rate = 1/2.5e-05"
   ]
  },
  {
   "cell_type": "code",
   "execution_count": 426,
   "metadata": {},
   "outputs": [],
   "source": [
    "# Compression matrix generation\n",
    "\n",
    "C_gaussian = np.random.normal(0, 1, size=data_shape)"
   ]
  },
  {
   "cell_type": "code",
   "execution_count": 427,
   "metadata": {},
   "outputs": [],
   "source": [
    "# compress data\n",
    "\n",
    "y1 = np.dot(C_gaussian, x1)\n",
    "y2 = np.dot(C_gaussian, x2)"
   ]
  },
  {
   "cell_type": "code",
   "execution_count": 428,
   "metadata": {},
   "outputs": [
    {
     "data": {
      "text/plain": [
       "(150, 89351)"
      ]
     },
     "execution_count": 428,
     "metadata": {},
     "output_type": "execute_result"
    }
   ],
   "source": [
    "C_gaussian.shape# = np.dot(np.linalg.pinv(x1), y1)"
   ]
  },
  {
   "cell_type": "code",
   "execution_count": 429,
   "metadata": {},
   "outputs": [
    {
     "name": "stdout",
     "output_type": "stream",
     "text": [
      "0.0721282958984375\n"
     ]
    }
   ],
   "source": [
    "# cDMD\n",
    "\n",
    "start = 0\n",
    "end = 0\n",
    "import time\n",
    "start = time.time()\n",
    "\n",
    "[Uc, Sc, Vc] = np.linalg.svd(y1, full_matrices=False, compute_uv=True, hermitian=False)\n",
    "\n",
    "menergyc = 0.0\n",
    "for i in range(0, np.size(Sc)):\n",
    "    menergyc += Sc[i]/np.sum(Sc)\n",
    "    if menergyc > percent_Trunc:\n",
    "        break\n",
    "    rc = i\n",
    "    \n",
    "menergyc, rc\n",
    "\n",
    "Atildec = Uc[:, :rc].T @ y2 @ Vc[:, :rc] * np.reciprocal(Sc[: rc])\n",
    "[eivValc,eivVecc] = np.linalg.eig(Atildec)\n",
    "\n",
    "phic = x2 @ Vc[:rc, :].T @ np.diag(np.reciprocal(Sc[: rc])) @ eivVecc\n",
    "\n",
    "end = time.time()\n",
    "print(end - start)"
   ]
  },
  {
   "cell_type": "code",
   "execution_count": 433,
   "metadata": {},
   "outputs": [
    {
     "name": "stdout",
     "output_type": "stream",
     "text": [
      "1.8778877258300781\n"
     ]
    }
   ],
   "source": [
    "# DMD\n",
    "\n",
    "start = 0\n",
    "end = 0\n",
    "import time\n",
    "start = time.time()\n",
    "\n",
    "[U, S, V] = np.linalg.svd(x1, full_matrices=False, compute_uv=True, hermitian=False)\n",
    "\n",
    "menergy = 0.0\n",
    "for i in range(0, np.size(S)):\n",
    "    menergy += S[i]/np.sum(S)\n",
    "    if menergy > percent_Trunc:\n",
    "        break\n",
    "    r = i\n",
    "    \n",
    "menergy, r\n",
    "\n",
    "Atilde = U[:, :r].T @ x2 @ V[:, :r] * np.reciprocal(S[: r])\n",
    "[eivVal,eivVec] = np.linalg.eig(Atilde)\n",
    "\n",
    "phi = x2 @ V[:r, :].T @ np.diag(np.reciprocal(S[: r])) @ eivVec.real # Compute full-state modes of X\n",
    "\n",
    "end = time.time()\n",
    "print(end - start)"
   ]
  }
 ],
 "metadata": {
  "kernelspec": {
   "display_name": "Python 3",
   "language": "python",
   "name": "python3"
  },
  "language_info": {
   "codemirror_mode": {
    "name": "ipython",
    "version": 3
   },
   "file_extension": ".py",
   "mimetype": "text/x-python",
   "name": "python",
   "nbconvert_exporter": "python",
   "pygments_lexer": "ipython3",
   "version": "3.11.3"
  },
  "orig_nbformat": 4
 },
 "nbformat": 4,
 "nbformat_minor": 2
}
