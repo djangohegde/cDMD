{
 "cells": [
  {
   "cell_type": "code",
   "execution_count": 1,
   "metadata": {},
   "outputs": [],
   "source": [
    "# import numpy as np\n",
    "# myList = [1, 2, 3, 100, 5]\n",
    "\n",
    "# np.argsort(myList)\n",
    "# # array([0, 1, 2, 4, 3])"
   ]
  },
  {
   "cell_type": "code",
   "execution_count": 2,
   "metadata": {},
   "outputs": [],
   "source": [
    "# np.sort(myList)"
   ]
  },
  {
   "cell_type": "code",
   "execution_count": 3,
   "metadata": {},
   "outputs": [],
   "source": [
    "# import all packages\n",
    " \n",
    "import numpy as np"
   ]
  },
  {
   "cell_type": "code",
   "execution_count": 4,
   "metadata": {},
   "outputs": [],
   "source": [
    "data_vort = np.loadtxt('vortall.csv', delimiter=',')"
   ]
  },
  {
   "cell_type": "code",
   "execution_count": 5,
   "metadata": {},
   "outputs": [],
   "source": [
    "x1 = data_vort[:,:-1]\n",
    "x2 = data_vort[:,1:]"
   ]
  },
  {
   "cell_type": "code",
   "execution_count": 6,
   "metadata": {},
   "outputs": [],
   "source": [
    "data_shape = (x1.shape[1], x1.shape[0])\n",
    "percent_Trunc = 0.90\n",
    "frame_rate = 1/2.5e-05"
   ]
  },
  {
   "cell_type": "code",
   "execution_count": 7,
   "metadata": {},
   "outputs": [],
   "source": [
    "# Compression matrix generation\n",
    "\n",
    "C_gaussian = np.random.normal(0, 1, size=data_shape)"
   ]
  },
  {
   "cell_type": "code",
   "execution_count": 8,
   "metadata": {},
   "outputs": [],
   "source": [
    "# compress data\n",
    "\n",
    "y1 = np.dot(C_gaussian, x1)\n",
    "y2 = np.dot(C_gaussian, x2)"
   ]
  },
  {
   "cell_type": "code",
   "execution_count": 9,
   "metadata": {},
   "outputs": [
    {
     "data": {
      "text/plain": [
       "(150, 150)"
      ]
     },
     "execution_count": 9,
     "metadata": {},
     "output_type": "execute_result"
    }
   ],
   "source": [
    "y1.shape"
   ]
  },
  {
   "cell_type": "code",
   "execution_count": 10,
   "metadata": {},
   "outputs": [
    {
     "data": {
      "text/plain": [
       "(150, 89351)"
      ]
     },
     "execution_count": 10,
     "metadata": {},
     "output_type": "execute_result"
    }
   ],
   "source": [
    "C_gaussian.shape# = np.dot(np.linalg.pinv(x1), y1)"
   ]
  },
  {
   "cell_type": "code",
   "execution_count": 11,
   "metadata": {},
   "outputs": [],
   "source": [
    "[Uc, Sc, Vc] = np.linalg.svd(y1, full_matrices=False, compute_uv=True, hermitian=False)\n"
   ]
  },
  {
   "cell_type": "code",
   "execution_count": 12,
   "metadata": {},
   "outputs": [
    {
     "name": "stdout",
     "output_type": "stream",
     "text": [
      "0.06404900550842285\n"
     ]
    }
   ],
   "source": [
    "# cDMD\n",
    "\n",
    "start = 0\n",
    "end = 0\n",
    "import time\n",
    "start = time.time()\n",
    "\n",
    "[Uc, Sc, Vc] = np.linalg.svd(y1, full_matrices=False, compute_uv=True, hermitian=False)\n",
    "\n",
    "menergyc = 0.0\n",
    "for i in range(0, np.size(Sc)):\n",
    "    menergyc += Sc[i]/np.sum(Sc)\n",
    "    if menergyc > percent_Trunc:\n",
    "        break\n",
    "    rc = i\n",
    "    \n",
    "menergyc, rc\n",
    "\n",
    "Atildec = Uc[:, :rc].T @ y2 @ Vc[:, :rc] * np.reciprocal(Sc[: rc])\n",
    "[eivValc,eivVecc] = np.linalg.eig(Atildec)\n",
    "\n",
    "phic = x2 @ Vc[:rc, :].T @ np.diag(np.reciprocal(Sc[: rc])) @ eivVecc\n",
    "\n",
    "end = time.time()\n",
    "print(end - start)"
   ]
  },
  {
   "cell_type": "code",
   "execution_count": 13,
   "metadata": {},
   "outputs": [
    {
     "data": {
      "text/plain": [
       "5"
      ]
     },
     "execution_count": 13,
     "metadata": {},
     "output_type": "execute_result"
    }
   ],
   "source": [
    "rc"
   ]
  },
  {
   "cell_type": "code",
   "execution_count": 14,
   "metadata": {},
   "outputs": [],
   "source": [
    "# menergyc = 0.0\n",
    "# for i in range(0, np.size(Sc)):\n",
    "#     menergyc += Sc[i]/np.sum(Sc)\n",
    "#     if menergyc > percent_Trunc:\n",
    "#         break\n",
    "#     rc = i\n",
    "    \n",
    "# menergyc, rc"
   ]
  },
  {
   "cell_type": "code",
   "execution_count": 15,
   "metadata": {},
   "outputs": [],
   "source": [
    "# Atildec = Uc[:, :rc].T @ y2 @ Vc[:, :rc] * np.reciprocal(Sc[: rc])\n",
    "# [eivValc,eivVecc] = np.linalg.eig(Atildec)"
   ]
  },
  {
   "cell_type": "code",
   "execution_count": 16,
   "metadata": {},
   "outputs": [],
   "source": [
    "# phic = x2 @ Vc[:rc, :].T @ np.diag(np.reciprocal(Sc[: rc])) @ eivVecc\n",
    "# bc = np.linalg.lstsq(phic, x1[:, 0])\n",
    "# vandermodeVc = np.vander(eivValc)\n",
    "# eivarrayc = np.diag(eivValc)"
   ]
  },
  {
   "cell_type": "code",
   "execution_count": 17,
   "metadata": {},
   "outputs": [
    {
     "name": "stdout",
     "output_type": "stream",
     "text": [
      "2.0793397426605225\n"
     ]
    }
   ],
   "source": [
    "# DMD\n",
    "\n",
    "start = 0\n",
    "end = 0\n",
    "import time\n",
    "start = time.time()\n",
    "\n",
    "[U, S, V] = np.linalg.svd(x1, full_matrices=False, compute_uv=True, hermitian=False)\n",
    "\n",
    "menergy = 0.0\n",
    "for i in range(0, np.size(S)):\n",
    "    menergy += S[i]/np.sum(S)\n",
    "    if menergy > percent_Trunc:\n",
    "        break\n",
    "    r = i\n",
    "    \n",
    "menergy, r\n",
    "\n",
    "Atilde = U[:, :r].T @ x2 @ V[:, :r] * np.reciprocal(S[: r])\n",
    "[eivVal,eivVec] = np.linalg.eig(Atilde)\n",
    "\n",
    "phi = x2 @ V[:r, :].T @ np.diag(np.reciprocal(S[: r])) @ eivVec.real # Compute full-state modes of X\n",
    "\n",
    "end = time.time()\n",
    "print(end - start)"
   ]
  },
  {
   "cell_type": "code",
   "execution_count": 40,
   "metadata": {},
   "outputs": [
    {
     "data": {
      "text/plain": [
       "(89351, 150)"
      ]
     },
     "execution_count": 40,
     "metadata": {},
     "output_type": "execute_result"
    }
   ],
   "source": [
    "x2.shape"
   ]
  },
  {
   "cell_type": "code",
   "execution_count": 39,
   "metadata": {},
   "outputs": [
    {
     "data": {
      "text/plain": [
       "(89351, 5)"
      ]
     },
     "execution_count": 39,
     "metadata": {},
     "output_type": "execute_result"
    }
   ],
   "source": [
    "phi.shape"
   ]
  },
  {
   "cell_type": "code",
   "execution_count": 18,
   "metadata": {},
   "outputs": [],
   "source": [
    "# menergy = 0.0\n",
    "# for i in range(0, np.size(S)):\n",
    "#     menergy += S[i]/np.sum(S)\n",
    "#     if menergy > percent_Trunc:\n",
    "#         break\n",
    "#     r = i\n",
    "    \n",
    "# menergy, r"
   ]
  },
  {
   "cell_type": "code",
   "execution_count": 19,
   "metadata": {},
   "outputs": [],
   "source": [
    "# Atilde = U[:, :r].T @ x2 @ V[:, :r] * np.reciprocal(S[: r])\n",
    "# [eivVal,eivVec] = np.linalg.eig(Atilde)"
   ]
  },
  {
   "cell_type": "code",
   "execution_count": 20,
   "metadata": {},
   "outputs": [],
   "source": [
    "# # phi = x2 @ V[:r, :].T @ np.diag(np.reciprocal(S[: r])) @ eivVec.real # Compute full-state modes of X\n",
    "# eivarray = np.diag(eivVal)\n",
    "# b = np.linalg.lstsq(phi, x1[:, 0]) # Compute amplitudes\n",
    "# vandermodeV = np.vander(eivVal) # Vandermonde matrix"
   ]
  },
  {
   "cell_type": "code",
   "execution_count": 21,
   "metadata": {},
   "outputs": [],
   "source": [
    "# diff_nrm = np.linalg.norm(phic - phi[:, :16])\n",
    "# n_phic = np.linalg.norm(phic)\n",
    "# np.linalg.norm(phic)#"
   ]
  },
  {
   "cell_type": "code",
   "execution_count": 22,
   "metadata": {},
   "outputs": [],
   "source": [
    "# n_phi = np.linalg.norm(phi)\n",
    "# np.linalg.norm(phi)#"
   ]
  },
  {
   "cell_type": "code",
   "execution_count": 23,
   "metadata": {},
   "outputs": [],
   "source": [
    "# diff = phic - phi#"
   ]
  },
  {
   "cell_type": "code",
   "execution_count": 24,
   "metadata": {},
   "outputs": [],
   "source": [
    "# diff_vec = np.reshape(diff, (diff.shape[0]*diff.shape[1], 1))#"
   ]
  },
  {
   "cell_type": "code",
   "execution_count": 25,
   "metadata": {},
   "outputs": [],
   "source": [
    "# n_diff_vec = np.linalg.norm(diff_vec, np.inf)##\n",
    "# n_diff_vec#"
   ]
  },
  {
   "cell_type": "code",
   "execution_count": 26,
   "metadata": {},
   "outputs": [],
   "source": [
    "#phic_vec = np.reshape(phic, (phic.shape[0]*phic.shape[1], 1))#"
   ]
  },
  {
   "cell_type": "code",
   "execution_count": 27,
   "metadata": {},
   "outputs": [],
   "source": [
    "# n_phic_vec = np.linalg.norm(phic_vec, np.inf)#\n",
    "# n_phic_vec#"
   ]
  },
  {
   "cell_type": "code",
   "execution_count": 28,
   "metadata": {},
   "outputs": [],
   "source": [
    "# phi_vec = np.reshape(phi, (phi.shape[0]*phi.shape[1], 1))"
   ]
  },
  {
   "cell_type": "code",
   "execution_count": 29,
   "metadata": {},
   "outputs": [],
   "source": [
    "# n_phi_vec = np.linalg.norm(phi_vec, np.inf)\n",
    "# n_phi_vec"
   ]
  },
  {
   "cell_type": "code",
   "execution_count": 30,
   "metadata": {},
   "outputs": [],
   "source": [
    "# np.linalg.norm(data_vort)"
   ]
  },
  {
   "cell_type": "code",
   "execution_count": 31,
   "metadata": {},
   "outputs": [],
   "source": [
    "# amplitude = np.abs(b[0])\n",
    "# X = phi * amplitude   # scaled mode"
   ]
  },
  {
   "cell_type": "code",
   "execution_count": 32,
   "metadata": {},
   "outputs": [],
   "source": [
    "# modeNorm = np.zeros(rc)\n",
    "\n",
    "# for i in range(0, rc-1):\n",
    "#     modeNorm[i] = np.linalg.norm(X[:,i]) # norm of each mode\n",
    "\n",
    "# mag = np.abs(eivarray)\n",
    "# weigh = mag[0:]/np.sum(mag)\n",
    "# delta_t = 1/frame_rate\n",
    "# omega = np.log(eivarray)/delta_t\n",
    "# growth = np.real(omega)\n",
    "# frequency = np.imag(omega)/(2*np.pi)"
   ]
  },
  {
   "cell_type": "code",
   "execution_count": 33,
   "metadata": {},
   "outputs": [],
   "source": [
    "# freq1 = np.argwhere(frequency>=0)   # eliminating negative frequencies\n",
    "# amplitude1 = amplitude[freq1]  # eliminating amplitudes corresponding to -ve frequencies\n",
    "# # d1 = b[freq1]                  # similar operations below for different parameters\n",
    "# omega1 = omega[freq1]\n",
    "# growth1 = growth[freq1]\n",
    "# weigh1 = weigh[freq1]\n",
    "# modeNorm1 = modeNorm[freq1]\n",
    "# frequency1 = frequency[freq1]\n",
    "# Xplus = X[:,freq1]"
   ]
  },
  {
   "cell_type": "code",
   "execution_count": 34,
   "metadata": {},
   "outputs": [],
   "source": [
    "# # Time Dynamics\n",
    "# numofruns = 1\n",
    "# mm1 = np.size(x1, 1)/numofruns\n",
    "# t = np.linspace(0,mm1-1)/frame_rate    # creating time vector\n",
    "# time_dynamics = np.zeros((np.size(x1, 0), np.size(x1, 1))) # initializing time dynamics matrix\n",
    "# # clear time_dynamics; clear i;\n",
    "# for i in range (0, np.size(mm1) - 1): #iter = 1:mm1\n",
    "#     time_dynamics[:,i] = (b)*np.exp(i*np.imag(omega)*t(i)) # computing time dynamics"
   ]
  },
  {
   "cell_type": "code",
   "execution_count": 35,
   "metadata": {},
   "outputs": [],
   "source": [
    "# Xnorm = np.zeros(Xplus.shape)\n",
    "# Xnorm.shape, Xplus.shape"
   ]
  },
  {
   "cell_type": "code",
   "execution_count": 36,
   "metadata": {},
   "outputs": [],
   "source": [
    "# idx = -np.argsort(-pos)#, axis=1)\n",
    "# idx.shape"
   ]
  },
  {
   "cell_type": "code",
   "execution_count": 37,
   "metadata": {},
   "outputs": [],
   "source": [
    "# # [~,pos] = sort(modeNorm1.*weigh1','descend') # sorting modes based on weighted mode norms\n",
    "# # clear Xnorm\n",
    "# pos = np.zeros((4, 2, 5))\n",
    "# for i in range(0, np.size(pos[0, 0, :]) - 1):\n",
    "#     pos[:, :, i] = np.argsort(modeNorm1*weigh1[:, :, i])\n",
    "\n",
    "# srt = -np.sort(-pos)\n",
    "# idx = -np.argsort(-pos)\n",
    "# Xnorm = np.zeros(Xplus.shape)\n",
    "\n",
    "# for i in range(0, np.size(idx[:,0,0]) - 1):\n",
    "#     Xnorm[:,i] = Xplus[:,idx[i][0][0], :]    # Sorting modes with positive frequency by weighted mode norm\n",
    "\n",
    "# frequency1[idx]\n",
    "# # mid = np.size(x1)\n",
    "# numofmodes = np.size(freq1)"
   ]
  },
  {
   "cell_type": "code",
   "execution_count": 38,
   "metadata": {},
   "outputs": [],
   "source": [
    "# Mode reconstruction\n",
    "# mode = np.argwhere(frequency1[idx]>0)    # finding all modes with positive frequency\n",
    "# mode = [ 2 3 5 6 9 12 13]    # Manually input mode to be reconstructed (modes with positive frequency)\n",
    "# for i in range (0, np.size(mode[0,:]) - 1): # = 1:length(mode)\n",
    "    # if frequency1[idx[mode[:,i].all]] <= 0:\n",
    "        # print('Error! Zero or negative frequency mode cannot be reconstructed')\n",
    "#         break\n",
    "#     else:\n",
    "#         tp = 1/frequency1(pos(mode(i))) #; clear xdmd;\n",
    "\n",
    "#     for z in range(0, np.size(x1, 2)): # = 1:size(D1,2)\n",
    "#         if((t(z)>=tp)):      # Z repreesents the number of time steps in one cycle of the mode\n",
    "#             break\n",
    "\n",
    "#     xdmd = phi[:,freq1(pos(mode(i)))] * time_dynamics[freq1(pos(mode(i))), :]    # DMD reconstruction of the selected mode"
   ]
  }
 ],
 "metadata": {
  "kernelspec": {
   "display_name": "Python 3",
   "language": "python",
   "name": "python3"
  },
  "language_info": {
   "codemirror_mode": {
    "name": "ipython",
    "version": 3
   },
   "file_extension": ".py",
   "mimetype": "text/x-python",
   "name": "python",
   "nbconvert_exporter": "python",
   "pygments_lexer": "ipython3",
   "version": "3.11.3"
  },
  "orig_nbformat": 4
 },
 "nbformat": 4,
 "nbformat_minor": 2
}
