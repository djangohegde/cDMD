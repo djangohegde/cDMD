{
 "cells": [
  {
   "cell_type": "code",
   "execution_count": null,
   "metadata": {},
   "outputs": [],
   "source": [
    "# import all packages\n",
    "\n",
    "import numpy as np"
   ]
  },
  {
   "cell_type": "code",
   "execution_count": null,
   "metadata": {},
   "outputs": [],
   "source": [
    "data = np.loadtxt('DMDdata200.txt', delimiter=',')"
   ]
  },
  {
   "cell_type": "code",
   "execution_count": null,
   "metadata": {},
   "outputs": [],
   "source": [
    "x1 = data[0:,1:-1]\n",
    "x2 = data[0:,2:]"
   ]
  },
  {
   "cell_type": "code",
   "execution_count": null,
   "metadata": {},
   "outputs": [],
   "source": [
    "data_shape = (x1.shape[1], x1.shape[0])\n",
    "percent_Trunc = 0.99\n",
    "frame_rate = 1/0.05\n",
    "# r = 50"
   ]
  },
  {
   "cell_type": "code",
   "execution_count": null,
   "metadata": {},
   "outputs": [],
   "source": [
    "# Compression matrix generation\n",
    "\n",
    "C_gaussian = np.random.normal(0, 1, size=data_shape)"
   ]
  },
  {
   "cell_type": "code",
   "execution_count": null,
   "metadata": {},
   "outputs": [],
   "source": [
    "# compress data\n",
    "\n",
    "y1 = np.dot(C_gaussian, x1)\n",
    "y2 = np.dot(C_gaussian, x2)\n"
   ]
  },
  {
   "cell_type": "code",
   "execution_count": null,
   "metadata": {},
   "outputs": [],
   "source": [
    "[U, S, V] = np.linalg.svd(y1, full_matrices=False, compute_uv=True, hermitian=False)\n"
   ]
  },
  {
   "cell_type": "code",
   "execution_count": null,
   "metadata": {},
   "outputs": [],
   "source": [
    "sorted_S = -np.sort(-S)\n"
   ]
  },
  {
   "cell_type": "code",
   "execution_count": null,
   "metadata": {},
   "outputs": [],
   "source": [
    "np.size(sorted_S)"
   ]
  },
  {
   "cell_type": "code",
   "execution_count": null,
   "metadata": {},
   "outputs": [],
   "source": [
    "menergy = 0.0 #eivVal_sorted.shape\n",
    "for i in range(0, np.size(sorted_S)):\n",
    "    # print(i)\n",
    "    menergy += sorted_S[i]/np.sum(sorted_S)\n",
    "    if menergy > percent_Trunc:\n",
    "        break\n",
    "    r = i\n",
    "    \n",
    "\n",
    "menergy, r"
   ]
  },
  {
   "cell_type": "code",
   "execution_count": null,
   "metadata": {},
   "outputs": [],
   "source": [
    "Atilde = U[:, : r].conj().T @ y2 @ V[:r, :].conj().T * np.reciprocal(S[: r])"
   ]
  },
  {
   "cell_type": "code",
   "execution_count": null,
   "metadata": {},
   "outputs": [],
   "source": [
    "Atilde.shape"
   ]
  },
  {
   "cell_type": "code",
   "execution_count": null,
   "metadata": {},
   "outputs": [],
   "source": [
    "[eivVal,eivVec] = np.linalg.eig(Atilde)"
   ]
  },
  {
   "cell_type": "code",
   "execution_count": null,
   "metadata": {},
   "outputs": [],
   "source": [
    "F = x2 @ V[:r, :].conj().T @ np.diag(np.reciprocal(S[: r])) @ eivVec"
   ]
  },
  {
   "cell_type": "code",
   "execution_count": null,
   "metadata": {},
   "outputs": [],
   "source": [
    "b = np.linalg.lstsq(F, x1[:, 0])"
   ]
  },
  {
   "cell_type": "code",
   "execution_count": null,
   "metadata": {},
   "outputs": [],
   "source": [
    "vandermodeV = np.vander(eivVal)#, x1.shape[1], True)"
   ]
  },
  {
   "cell_type": "code",
   "execution_count": null,
   "metadata": {},
   "outputs": [],
   "source": [
    "V.shape"
   ]
  },
  {
   "cell_type": "code",
   "execution_count": null,
   "metadata": {},
   "outputs": [],
   "source": [
    "eivarray = np.diag(eivVal)\n"
   ]
  },
  {
   "cell_type": "code",
   "execution_count": null,
   "metadata": {},
   "outputs": [],
   "source": [
    "# DMD\n",
    "\n",
    "# [U, S, V] = np.linalg.svd(y1, full_matrices=False, compute_uv=True, hermitian=False)\n",
    "# Atilde = U[:, : r].conj().T @ y2 @ V[:r, :].conj().T * np.reciprocal(S[: r])\n",
    "# U[:, : r].conj().T @ np.dot(x2.T, x2) @ V[: r, :].conj().T * np.reciprocal(S[: r])\n",
    "# Atilde = np.dot(Atilde.T, Atilde)\n",
    "# [eivVal,eivVec] = np.linalg.eig(Atilde)\n",
    "# eivVal_sorted = -np.sort(-eivVal)\n",
    "# eivarray = np.diag(eivVal)\n",
    "# psi = y2 @ V[:r, :].conj().T @ np.diag(np.reciprocal(S[: r])) @ eivVec # / np.tile(np.transpose(eivarray),(np.size(y1,1),1)) \n",
    "# d = X1, y1[:,0] # scales\n",
    "# d = np.linalg.solve(X1.T.dot(X1), X1.T.dot(y1))\n",
    "# amplitude = np.abs(d)\n",
    "# X=X1*np.diag(d) # scaled DMD modes\n",
    "# sp_modes = y2 @ V[:r, :].conj().T @ np.diag(np.reciprocal(S[: r])) @ eivVec\n",
    "# A = psi @ np.diag(eivVal) #@ np.linalg.pinv(X1)\n",
    "# end of DMD"
   ]
  },
  {
   "cell_type": "code",
   "execution_count": null,
   "metadata": {},
   "outputs": [],
   "source": [
    "# menergy = 0.0 #eivVal_sorted.shape\n",
    "# for i in range(0, np.size(eivVal_sorted)):\n",
    "#     # print(i)\n",
    "#     menergy += eivVal_sorted[i]/np.sum(eivVal_sorted)\n",
    "\n",
    "# menergy"
   ]
  },
  {
   "cell_type": "code",
   "execution_count": null,
   "metadata": {},
   "outputs": [],
   "source": [
    "# modeNorm = np.zeros(r)\n",
    "# for i in range(0, r-1):\n",
    "#     modeNorm[i] = np.linalg.norm(X[:,i]) # norm of each mode\n",
    "\n",
    "# mag = np.absolute(eivarray)\n",
    "# weigh = mag[1:-1]/np.sum(mag)\n",
    "# delta_t = 1/frame_rate   \n",
    "# omega = np.log(eivarray)/delta_t\n",
    "# growth = np.real(omega)\n",
    "# frequency = np.imag(omega)/(2*np.pi)"
   ]
  },
  {
   "cell_type": "code",
   "execution_count": null,
   "metadata": {},
   "outputs": [],
   "source": [
    "# # #\n",
    "\n",
    "# freq1 = np.where(frequency>=0)     # eliminating negative frequencies\n",
    "# amplitude1 = amplitude[freq1]  # eliminating amplitudes corresponding to -ve frequencies\n",
    "# d1 = d[freq1]    # similar operations below for different parameters\n",
    "# omega1 = omega[freq1]\n",
    "# growth1 = growth[freq1]\n",
    "# # weigh1 = weigh[freq1]\n",
    "# # modeNorm1 = modeNorm[:,freq1]\n",
    "# # frequency1 = frequency[freq1]\n",
    "# # Xplus = X[:freq1]"
   ]
  }
 ],
 "metadata": {
  "kernelspec": {
   "display_name": "Python 3",
   "language": "python",
   "name": "python3"
  },
  "language_info": {
   "codemirror_mode": {
    "name": "ipython",
    "version": 3
   },
   "file_extension": ".py",
   "mimetype": "text/x-python",
   "name": "python",
   "nbconvert_exporter": "python",
   "pygments_lexer": "ipython3",
   "version": "3.11.3"
  },
  "orig_nbformat": 4
 },
 "nbformat": 4,
 "nbformat_minor": 2
}
