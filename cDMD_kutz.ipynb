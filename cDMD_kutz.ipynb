{
 "cells": [
  {
   "cell_type": "code",
   "execution_count": 16,
   "metadata": {},
   "outputs": [],
   "source": [
    "# import all packages\n",
    " \n",
    "import numpy as np"
   ]
  },
  {
   "cell_type": "code",
   "execution_count": 17,
   "metadata": {},
   "outputs": [],
   "source": [
    "data_kutz = np.loadtxt('kutz.csv', delimiter=',')"
   ]
  },
  {
   "cell_type": "code",
   "execution_count": 18,
   "metadata": {},
   "outputs": [],
   "source": [
    "x1 = data_kutz[0:,1:-1]\n",
    "x2 = data_kutz[0:,2:]"
   ]
  },
  {
   "cell_type": "code",
   "execution_count": 19,
   "metadata": {},
   "outputs": [],
   "source": [
    "data_shape = (x1.shape[1], x1.shape[0])\n",
    "percent_Trunc = 0.90\n",
    "# frame_rate = 1/2.5e-05"
   ]
  },
  {
   "cell_type": "code",
   "execution_count": 20,
   "metadata": {},
   "outputs": [],
   "source": [
    "# Compression matrix generation\n",
    "\n",
    "C_gaussian = np.random.normal(0, 1, size=data_shape)"
   ]
  },
  {
   "cell_type": "code",
   "execution_count": 21,
   "metadata": {},
   "outputs": [],
   "source": [
    "# compress data\n",
    "\n",
    "y1 = np.dot(C_gaussian, x1)\n",
    "y2 = np.dot(C_gaussian, x2)"
   ]
  },
  {
   "cell_type": "code",
   "execution_count": 22,
   "metadata": {},
   "outputs": [],
   "source": [
    "# cDMD\n",
    "\n",
    "[Uc, Sc, Vc] = np.linalg.svd(y1, full_matrices=False, compute_uv=True, hermitian=False)"
   ]
  },
  {
   "cell_type": "code",
   "execution_count": 23,
   "metadata": {},
   "outputs": [
    {
     "data": {
      "text/plain": [
       "(0.9041896208319737, 1)"
      ]
     },
     "execution_count": 23,
     "metadata": {},
     "output_type": "execute_result"
    }
   ],
   "source": [
    "menergyc = 0.0\n",
    "for i in range(0, np.size(Sc)):\n",
    "    menergyc += Sc[i]/np.sum(Sc)\n",
    "    if menergyc > percent_Trunc:\n",
    "        break\n",
    "    rc = i\n",
    "    \n",
    "menergyc, rc"
   ]
  },
  {
   "cell_type": "code",
   "execution_count": 24,
   "metadata": {},
   "outputs": [],
   "source": [
    "Atildec = Uc[:, :rc].T @ y2 @ Vc[:, :rc] * np.reciprocal(Sc[: rc])\n",
    "[eivValc,eivVecc] = np.linalg.eig(Atildec)"
   ]
  },
  {
   "cell_type": "code",
   "execution_count": 25,
   "metadata": {},
   "outputs": [
    {
     "data": {
      "text/plain": [
       "(1, 1)"
      ]
     },
     "execution_count": 25,
     "metadata": {},
     "output_type": "execute_result"
    }
   ],
   "source": [
    "Atildec.shape"
   ]
  },
  {
   "cell_type": "code",
   "execution_count": 26,
   "metadata": {},
   "outputs": [
    {
     "name": "stderr",
     "output_type": "stream",
     "text": [
      "C:\\Users\\sumuk\\AppData\\Local\\Temp\\ipykernel_11908\\763208485.py:2: FutureWarning: `rcond` parameter will change to the default of machine precision times ``max(M, N)`` where M and N are the input matrix dimensions.\n",
      "To use the future default and silence this warning we advise to pass `rcond=None`, to keep using the old, explicitly pass `rcond=-1`.\n",
      "  bc = np.linalg.lstsq(phic, x1[:, 0])\n"
     ]
    }
   ],
   "source": [
    "phic = x2 @ Vc[:rc, :].T @ np.diag(np.reciprocal(Sc[: rc])) @ eivVecc\n",
    "bc = np.linalg.lstsq(phic, x1[:, 0])\n",
    "vandermodeVc = np.vander(eivValc)\n",
    "eivarrayc = np.diag(eivValc)"
   ]
  },
  {
   "cell_type": "code",
   "execution_count": 27,
   "metadata": {},
   "outputs": [
    {
     "data": {
      "text/plain": [
       "((1,), (178702, 1), (1, 1), (1, 1))"
      ]
     },
     "execution_count": 27,
     "metadata": {},
     "output_type": "execute_result"
    }
   ],
   "source": [
    "bc[0].shape, phic.shape, vandermodeVc.shape, eivarrayc.shape"
   ]
  },
  {
   "cell_type": "code",
   "execution_count": 28,
   "metadata": {},
   "outputs": [],
   "source": [
    "# DMD\n",
    "\n",
    "[U, S, V] = np.linalg.svd(x1, full_matrices=False, compute_uv=True, hermitian=False)"
   ]
  },
  {
   "cell_type": "code",
   "execution_count": 29,
   "metadata": {},
   "outputs": [
    {
     "data": {
      "text/plain": [
       "(0.9229507984443635, 2)"
      ]
     },
     "execution_count": 29,
     "metadata": {},
     "output_type": "execute_result"
    }
   ],
   "source": [
    "menergy = 0.0\n",
    "for i in range(0, np.size(S)):\n",
    "    menergy += S[i]/np.sum(S)\n",
    "    if menergy > percent_Trunc:\n",
    "        break\n",
    "    r = i\n",
    "    \n",
    "menergy, r"
   ]
  },
  {
   "cell_type": "code",
   "execution_count": 30,
   "metadata": {},
   "outputs": [],
   "source": [
    "Atilde = U[:, :r].T @ x2 @ V[:, :r] * np.reciprocal(S[: r])\n",
    "[eivVal,eivVec] = np.linalg.eig(Atilde)"
   ]
  },
  {
   "cell_type": "code",
   "execution_count": 31,
   "metadata": {},
   "outputs": [
    {
     "name": "stderr",
     "output_type": "stream",
     "text": [
      "C:\\Users\\sumuk\\AppData\\Local\\Temp\\ipykernel_11908\\3731244738.py:3: FutureWarning: `rcond` parameter will change to the default of machine precision times ``max(M, N)`` where M and N are the input matrix dimensions.\n",
      "To use the future default and silence this warning we advise to pass `rcond=None`, to keep using the old, explicitly pass `rcond=-1`.\n",
      "  b = np.linalg.lstsq(phi, x1[:, 0]) # Compute amplitudes\n"
     ]
    }
   ],
   "source": [
    "phi = x2 @ V[:r, :].T @ np.diag(np.reciprocal(S[: r])) @ eivVec.real # Compute full-state modes of X\n",
    "eivarray = np.diag(eivVal)\n",
    "b = np.linalg.lstsq(phi, x1[:, 0]) # Compute amplitudes\n",
    "vandermodeV = np.vander(eivVal) # Vandermonde matrix"
   ]
  },
  {
   "cell_type": "code",
   "execution_count": 32,
   "metadata": {},
   "outputs": [
    {
     "data": {
      "text/plain": [
       "((2,), (178702, 2), (2, 2), (2, 2))"
      ]
     },
     "execution_count": 32,
     "metadata": {},
     "output_type": "execute_result"
    }
   ],
   "source": [
    "b[0].shape, phi.shape, vandermodeV.shape, eivarray.shape"
   ]
  },
  {
   "cell_type": "code",
   "execution_count": 33,
   "metadata": {},
   "outputs": [
    {
     "data": {
      "text/plain": [
       "array([[-0.00379588],\n",
       "       [-0.00379413],\n",
       "       [-0.00379202],\n",
       "       [-0.00378974],\n",
       "       [-0.00378737],\n",
       "       [-0.00378485],\n",
       "       [-0.00378226],\n",
       "       [-0.00377952],\n",
       "       [-0.00377671],\n",
       "       [-0.00377376]])"
      ]
     },
     "execution_count": 33,
     "metadata": {},
     "output_type": "execute_result"
    }
   ],
   "source": [
    "phi[:10, :1]"
   ]
  },
  {
   "cell_type": "code",
   "execution_count": 34,
   "metadata": {},
   "outputs": [
    {
     "data": {
      "text/plain": [
       "array([[0.00029563],\n",
       "       [0.00029549],\n",
       "       [0.00029533],\n",
       "       [0.00029515],\n",
       "       [0.00029497],\n",
       "       [0.00029477],\n",
       "       [0.00029457],\n",
       "       [0.00029436],\n",
       "       [0.00029414],\n",
       "       [0.00029391]])"
      ]
     },
     "execution_count": 34,
     "metadata": {},
     "output_type": "execute_result"
    }
   ],
   "source": [
    "phic[:10, :1]"
   ]
  },
  {
   "cell_type": "code",
   "execution_count": 35,
   "metadata": {},
   "outputs": [
    {
     "data": {
      "text/plain": [
       "0.07785325345792268"
      ]
     },
     "execution_count": 35,
     "metadata": {},
     "output_type": "execute_result"
    }
   ],
   "source": [
    "# diff_nrm = np.linalg.norm(phic - phi[:, :16])\n",
    "# n_phic = np.linalg.norm(phic)\n",
    "np.linalg.norm(phic)"
   ]
  },
  {
   "cell_type": "code",
   "execution_count": 36,
   "metadata": {},
   "outputs": [
    {
     "data": {
      "text/plain": [
       "1.4143370022266508"
      ]
     },
     "execution_count": 36,
     "metadata": {},
     "output_type": "execute_result"
    }
   ],
   "source": [
    "# n_phi = np.linalg.norm(phi)\n",
    "np.linalg.norm(phi)"
   ]
  },
  {
   "cell_type": "code",
   "execution_count": 45,
   "metadata": {},
   "outputs": [],
   "source": [
    "diff = phic - phi"
   ]
  },
  {
   "cell_type": "code",
   "execution_count": 46,
   "metadata": {},
   "outputs": [],
   "source": [
    "diff_vec = np.reshape(diff, (diff.shape[0]*diff.shape[1], 1))"
   ]
  },
  {
   "cell_type": "code",
   "execution_count": 47,
   "metadata": {},
   "outputs": [
    {
     "data": {
      "text/plain": [
       "0.005474622854270715"
      ]
     },
     "execution_count": 47,
     "metadata": {},
     "output_type": "execute_result"
    }
   ],
   "source": [
    "n_diff_vec = np.linalg.norm(diff_vec, np.inf)\n",
    "n_diff_vec"
   ]
  },
  {
   "cell_type": "code",
   "execution_count": 48,
   "metadata": {},
   "outputs": [],
   "source": [
    "phic_vec = np.reshape(phic, (phic.shape[0]*phic.shape[1], 1))"
   ]
  },
  {
   "cell_type": "code",
   "execution_count": 49,
   "metadata": {},
   "outputs": [
    {
     "data": {
      "text/plain": [
       "0.00036983738665871197"
      ]
     },
     "execution_count": 49,
     "metadata": {},
     "output_type": "execute_result"
    }
   ],
   "source": [
    "n_phic_vec = np.linalg.norm(phic_vec, np.inf)\n",
    "n_phic_vec"
   ]
  },
  {
   "cell_type": "code",
   "execution_count": 50,
   "metadata": {},
   "outputs": [],
   "source": [
    "phi_vec = np.reshape(phi, (phi.shape[0]*phi.shape[1], 1))"
   ]
  },
  {
   "cell_type": "code",
   "execution_count": 51,
   "metadata": {},
   "outputs": [
    {
     "data": {
      "text/plain": [
       "0.005479599148626223"
      ]
     },
     "execution_count": 51,
     "metadata": {},
     "output_type": "execute_result"
    }
   ],
   "source": [
    "n_phi_vec = np.linalg.norm(phi_vec, np.inf)\n",
    "n_phi_vec"
   ]
  },
  {
   "cell_type": "code",
   "execution_count": 52,
   "metadata": {},
   "outputs": [
    {
     "data": {
      "text/plain": [
       "3438.3293338130843"
      ]
     },
     "execution_count": 52,
     "metadata": {},
     "output_type": "execute_result"
    }
   ],
   "source": [
    "np.linalg.norm(data_kutz)"
   ]
  },
  {
   "cell_type": "code",
   "execution_count": null,
   "metadata": {},
   "outputs": [],
   "source": [
    "# DMD\n",
    "\n",
    "# [U, S, V] = np.linalg.svd(y1, full_matrices=False, compute_uv=True, hermitian=False)\n",
    "# Atilde = U[:, : r].conj().T @ y2 @ V[:r, :].conj().T * np.reciprocal(S[: r])\n",
    "# U[:, : r].conj().T @ np.dot(x2.T, x2) @ V[: r, :].conj().T * np.reciprocal(S[: r])\n",
    "# Atilde = np.dot(Atilde.T, Atilde)\n",
    "# [eivVal,eivVec] = np.linalg.eig(Atilde)\n",
    "# eivVal_sorted = -np.sort(-eivVal)\n",
    "# eivarray = np.diag(eivVal)\n",
    "# psi = y2 @ V[:r, :].conj().T @ np.diag(np.reciprocal(S[: r])) @ eivVec # / np.tile(np.transpose(eivarray),(np.size(y1,1),1)) \n",
    "# d = X1, y1[:,0] # scales\n",
    "# d = np.linalg.solve(X1.T.dot(X1), X1.T.dot(y1))\n",
    "# amplitude = np.abs(d)\n",
    "# X=X1*np.diag(d) # scaled DMD modes\n",
    "# sp_modes = y2 @ V[:r, :].conj().T @ np.diag(np.reciprocal(S[: r])) @ eivVec\n",
    "# A = psi @ np.diag(eivVal) #@ np.linalg.pinv(X1)\n",
    "# end of DMD"
   ]
  },
  {
   "cell_type": "code",
   "execution_count": null,
   "metadata": {},
   "outputs": [],
   "source": [
    "# modeNorm = np.zeros(r)\n",
    "# for i in range(0, r-1):\n",
    "#     modeNorm[i] = np.linalg.norm(X[:,i]) # norm of each mode\n",
    "\n",
    "# mag = np.absolute(eivarray)\n",
    "# weigh = mag[1:-1]/np.sum(mag)\n",
    "# delta_t = 1/frame_rate   \n",
    "# omega = np.log(eivarray)/delta_t\n",
    "# growth = np.real(omega)\n",
    "# frequency = np.imag(omega)/(2*np.pi)"
   ]
  },
  {
   "cell_type": "code",
   "execution_count": null,
   "metadata": {},
   "outputs": [],
   "source": [
    "# # #\n",
    "\n",
    "# freq1 = np.where(frequency>=0)     # eliminating negative frequencies\n",
    "# amplitude1 = amplitude[freq1]  # eliminating amplitudes corresponding to -ve frequencies\n",
    "# d1 = d[freq1]    # similar operations below for different parameters\n",
    "# omega1 = omega[freq1]\n",
    "# growth1 = growth[freq1]\n",
    "# # weigh1 = weigh[freq1]\n",
    "# # modeNorm1 = modeNorm[:,freq1]\n",
    "# # frequency1 = frequency[freq1]\n",
    "# # Xplus = X[:freq1]"
   ]
  }
 ],
 "metadata": {
  "kernelspec": {
   "display_name": "Python 3",
   "language": "python",
   "name": "python3"
  },
  "language_info": {
   "codemirror_mode": {
    "name": "ipython",
    "version": 3
   },
   "file_extension": ".py",
   "mimetype": "text/x-python",
   "name": "python",
   "nbconvert_exporter": "python",
   "pygments_lexer": "ipython3",
   "version": "3.11.3"
  },
  "orig_nbformat": 4
 },
 "nbformat": 4,
 "nbformat_minor": 2
}
