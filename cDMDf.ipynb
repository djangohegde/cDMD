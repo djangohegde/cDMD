{
 "cells": [
  {
   "cell_type": "code",
   "execution_count": 1,
   "metadata": {},
   "outputs": [],
   "source": [
    "# import all packages\n",
    " \n",
    "import numpy as np\n",
    "import time"
   ]
  },
  {
   "cell_type": "code",
   "execution_count": 2,
   "metadata": {},
   "outputs": [],
   "source": [
    "def load_data():\n",
    "    # load data\n",
    "    data = np.loadtxt('DMDdata200.csv', delimiter=',')\n",
    "    x1 = data[0:,1:-1]\n",
    "    x2 = data[0:,2:]\n",
    "    return x1, x2\t"
   ]
  },
  {
   "cell_type": "code",
   "execution_count": 3,
   "metadata": {},
   "outputs": [],
   "source": [
    "x1, x2 = load_data()"
   ]
  },
  {
   "cell_type": "code",
   "execution_count": 4,
   "metadata": {},
   "outputs": [],
   "source": [
    "data_shape = (x1.shape[1], x1.shape[0])\n",
    "percent_Trunc = 0.90\n",
    "dt = 2.5e-05"
   ]
  },
  {
   "cell_type": "code",
   "execution_count": 5,
   "metadata": {},
   "outputs": [],
   "source": [
    "# Compression matrix generation\n",
    "\n",
    "C_gaussian = np.random.normal(0, 1, size=data_shape)"
   ]
  },
  {
   "cell_type": "code",
   "execution_count": 6,
   "metadata": {},
   "outputs": [],
   "source": [
    "# compress data\n",
    "\n",
    "y1 = np.dot(C_gaussian, x1)\n",
    "y2 = np.dot(C_gaussian, x2)"
   ]
  },
  {
   "cell_type": "code",
   "execution_count": 7,
   "metadata": {},
   "outputs": [],
   "source": [
    "# cDMD\n",
    "\n",
    "def DMD(y1, y2, x1, x2, percent_Trunc, dt):\n",
    "\n",
    "    [Uc, Sc, Vc] = np.linalg.svd(y1, full_matrices=False, compute_uv=True, hermitian=False)\n",
    "\n",
    "    menergyc = 0.0\n",
    "    for i in range(0, np.size(Sc)):\n",
    "        menergyc += Sc[i]/np.sum(Sc)\n",
    "        if menergyc > percent_Trunc:\n",
    "            break\n",
    "        rc = i\n",
    "        \n",
    "    menergyc, rc\n",
    "\n",
    "    Atildec = Uc[:, :rc].T @ y2 @ Vc[:, :rc] * np.reciprocal(Sc[: rc])\n",
    "    [eivValc,eivVecc] = np.linalg.eig(Atildec)\n",
    "\n",
    "    phic = x2 @ Vc[:rc, :].T @ np.diag(np.reciprocal(Sc[: rc])) @ eivVecc\n",
    "    bc = np.linalg.lstsq(phic, x1[:, 0])\n",
    "\n",
    "    num_modesc = phic.shape[1]\n",
    "    omegac = np.log(eivValc) / dt\n",
    "            \n",
    "    return phic, bc, omegac, num_modesc"
   ]
  },
  {
   "cell_type": "code",
   "execution_count": 8,
   "metadata": {},
   "outputs": [],
   "source": [
    "## Reconstruction of the data\n",
    "\n",
    "def recon(phi, b, omega, num_steps, r):\n",
    "    time_dynamics = np.zeros((r, num_steps), dtype=complex)\n",
    "    for i in range(num_steps):\n",
    "        time_dynamics[:, i] = b[0] * np.exp(omega * i)\n",
    "    return phi @ time_dynamics"
   ]
  },
  {
   "cell_type": "code",
   "execution_count": 9,
   "metadata": {},
   "outputs": [
    {
     "name": "stderr",
     "output_type": "stream",
     "text": [
      "C:\\Users\\sumuk\\AppData\\Local\\Temp\\ipykernel_1892\\2249330943.py:20: FutureWarning: `rcond` parameter will change to the default of machine precision times ``max(M, N)`` where M and N are the input matrix dimensions.\n",
      "To use the future default and silence this warning we advise to pass `rcond=None`, to keep using the old, explicitly pass `rcond=-1`.\n",
      "  bc = np.linalg.lstsq(phic, x1[:, 0])\n",
      "C:\\Users\\sumuk\\AppData\\Local\\Temp\\ipykernel_1892\\2249330943.py:23: RuntimeWarning: invalid value encountered in log\n",
      "  omegac = np.log(eivValc) / dt\n"
     ]
    },
    {
     "name": "stdout",
     "output_type": "stream",
     "text": [
      "Time taken for cDMD:  5.298781871795654\n",
      "Time taken for DMD:  37.9315927028656\n"
     ]
    }
   ],
   "source": [
    "startc = 0\n",
    "endc = 0\n",
    "\n",
    "startc = time.time()\n",
    "\n",
    "phic, bc, omegac, num_modesc = DMD(y1, y2, x1, x2, percent_Trunc, dt)\n",
    "\n",
    "endc = time.time()\n",
    "\n",
    "print(\"Time taken for cDMD: \", endc - startc)\n",
    "\n",
    "start = 0\n",
    "end = 0\n",
    "\n",
    "start = time.time()\n",
    "\n",
    "phi, b, omega, num_modes = DMD(x1, x2, x1, x2, percent_Trunc, dt)\n",
    "\n",
    "end = time.time()\n",
    "\n",
    "print(\"Time taken for DMD: \", end - start)"
   ]
  },
  {
   "cell_type": "code",
   "execution_count": 11,
   "metadata": {},
   "outputs": [],
   "source": [
    "reconstructed_fieldc = recon(phic, bc, omegac, 2000, num_modesc)\n",
    "reconstructed_field = recon(phi, b, omega, 2000, num_modes)"
   ]
  }
 ],
 "metadata": {
  "kernelspec": {
   "display_name": "Python 3",
   "language": "python",
   "name": "python3"
  },
  "language_info": {
   "codemirror_mode": {
    "name": "ipython",
    "version": 3
   },
   "file_extension": ".py",
   "mimetype": "text/x-python",
   "name": "python",
   "nbconvert_exporter": "python",
   "pygments_lexer": "ipython3",
   "version": "3.11.3"
  },
  "orig_nbformat": 4
 },
 "nbformat": 4,
 "nbformat_minor": 2
}
